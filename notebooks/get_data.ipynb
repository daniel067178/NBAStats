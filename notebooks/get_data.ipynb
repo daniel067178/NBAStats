{
 "cells": [
  {
   "cell_type": "code",
   "execution_count": null,
   "id": "70f116ff",
   "metadata": {},
   "outputs": [],
   "source": [
    "# El obejtivo de este notebook sera definir las variables que necesitamos para los modelos: \n",
    "# el de clasificacion y el de regresion\n",
    "# y comenzar a testear las conexiones con la api para despues generar el .py de get_data\n",
    "\n",
    "# para extraer los datos usaremos la api de nba_api:\n",
    "# LINKS:\n",
    "# https://medium.com/@cristianvaldez85/nba-data-using-python-82ebc0e19398\n",
    "# https://pypi.org/project/nba_api/\n",
    "\n",
    "#TEAMS STATS: https://github.com/swar/nba_api/blob/master/docs/nba_api/stats/static/teams.md\n",
    "# PLAYERS STATS: https://github.com/swar/nba_api/blob/master/docs/nba_api/stats/static/players.md\n",
    "\n",
    "\n",
    "\n"
   ]
  },
  {
   "cell_type": "markdown",
   "id": "48027f5b",
   "metadata": {},
   "source": [
    "# Modelo de clasificacion: Que Equipo Va a Ganar?"
   ]
  },
  {
   "cell_type": "code",
   "execution_count": null,
   "id": "2ad1b1eb",
   "metadata": {},
   "outputs": [],
   "source": [
    "# Identificador único del juego.\n",
    "# Fecha del partido (para calcular el descanso).\n",
    "# ID de los equipos (home y away)\n",
    "# Los puntos finales anotados por cada equipo (nos ayudara a crear la target column).\n",
    "# is_home?\n",
    "\n",
    "# Para Home y Away\n",
    "# FGM\tTiros de campo anotados.\n",
    "# FGA\tTiros de campo intentados.\n",
    "# FG3M\tTiros de 3 puntos anotados.\n",
    "# OREB\tRebotes ofensivos.\n",
    "# ODREB\tRebotes defensivos.\n",
    "# AST\tAsistencias.\n",
    "# TOV\tPérdidas de balón.\n",
    "# FTM / FTA\tTiros libres anotados / intentados. (Tasa de Tiros Libres)\n",
    "\n",
    "# Me falta agregar columnas que puedan afectar psicologicamente como finales etc, investigarlas\n",
    "\n",
    "# Is_Playoffs\n",
    "# Is_Finals\n",
    "# Game_In_Series\n",
    "# Series_Is_Elimination\n",
    "# Win_Streak\n",
    "# Days_Since_Loss\n",
    "# Time_of_Day_Factor\n",
    "\n",
    "\n",
    "\n",
    "# La idea sera con estas columnas hacer nuestro FE, el modelo no va a predecir al ganador basado en stats \n",
    "# que aun no conocemos (data lekeage) usaremos lags y stadisticas acumuladas hasta la fecha mas recientes antes del juego\n",
    "# asi el modelo debe aprender a predecir al equipo gaandor, basandose en el comportamiento reciente de los 2 equipos\n"
   ]
  },
  {
   "cell_type": "markdown",
   "id": "8b414397",
   "metadata": {},
   "source": [
    "# Modelo de Regresion: Cuantos puntos habra?"
   ]
  },
  {
   "cell_type": "code",
   "execution_count": null,
   "id": "8821865e",
   "metadata": {},
   "outputs": [],
   "source": []
  }
 ],
 "metadata": {
  "kernelspec": {
   "display_name": ".venv",
   "language": "python",
   "name": "python3"
  },
  "language_info": {
   "codemirror_mode": {
    "name": "ipython",
    "version": 3
   },
   "file_extension": ".py",
   "mimetype": "text/x-python",
   "name": "python",
   "nbconvert_exporter": "python",
   "pygments_lexer": "ipython3",
   "version": "3.13.1"
  }
 },
 "nbformat": 4,
 "nbformat_minor": 5
}
